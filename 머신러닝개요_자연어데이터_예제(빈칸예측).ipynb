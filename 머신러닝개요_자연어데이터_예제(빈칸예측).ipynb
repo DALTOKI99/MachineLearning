{
  "nbformat": 4,
  "nbformat_minor": 0,
  "metadata": {
    "colab": {
      "provenance": [],
      "include_colab_link": true
    },
    "kernelspec": {
      "name": "python3",
      "display_name": "Python 3"
    },
    "language_info": {
      "name": "python"
    }
  },
  "cells": [
    {
      "cell_type": "markdown",
      "metadata": {
        "id": "view-in-github",
        "colab_type": "text"
      },
      "source": [
        "<a href=\"https://colab.research.google.com/github/DALTOKI99/MachineLearning/blob/main/%EB%A8%B8%EC%8B%A0%EB%9F%AC%EB%8B%9D%EA%B0%9C%EC%9A%94_%EC%9E%90%EC%97%B0%EC%96%B4%EB%8D%B0%EC%9D%B4%ED%84%B0_%EC%98%88%EC%A0%9C(%EB%B9%88%EC%B9%B8%EC%98%88%EC%B8%A1).ipynb\" target=\"_parent\"><img src=\"https://colab.research.google.com/assets/colab-badge.svg\" alt=\"Open In Colab\"/></a>"
      ]
    },
    {
      "cell_type": "markdown",
      "source": [
        "## BERT로 빈칸에 들어갈 토큰 예측\n",
        "- multi-lingual BERT 사용"
      ],
      "metadata": {
        "id": "cW6ZHHe4k8fg"
      }
    },
    {
      "cell_type": "code",
      "execution_count": null,
      "metadata": {
        "id": "lq-gmNcLk20r"
      },
      "outputs": [],
      "source": [
        "!pip install tensorflow_text\n",
        "\n",
        "import tensorflow as tf \n",
        "import tensorflow_hub as hub\n",
        "import tensorflow_text as text\n",
        "import numpy as np\n",
        "\n",
        "tf.__version__"
      ]
    },
    {
      "cell_type": "code",
      "source": [
        "# 문장 -> BERT 모델의 입력형태로 변환\n",
        "\n",
        "text_input = tf.keras.layers.Input(shape=(), dtype=tf.string)\n",
        "preprocessor = hub.KerasLayer(\"https://tfhub.dev/tensorflow/bert_multi_cased_preprocess/3\")\n",
        "encoder_inputs = preprocessor(text_input)\n",
        "preprocessed_text = tf.keras.Model(text_input, encoder_inputs)"
      ],
      "metadata": {
        "id": "bDmkmZl6lFCd"
      },
      "execution_count": null,
      "outputs": []
    },
    {
      "cell_type": "markdown",
      "source": [
        "- 단어 리스트 가져오기"
      ],
      "metadata": {
        "id": "G8VMG8nhlTOA"
      }
    },
    {
      "cell_type": "code",
      "source": [
        "from google.colab import drive\n",
        "drive.mount('/gdrive')"
      ],
      "metadata": {
        "colab": {
          "base_uri": "https://localhost:8080/"
        },
        "id": "dm6pEPNWlQZ7",
        "outputId": "9726e3ef-df81-4a03-f8b4-66c33e173e19"
      },
      "execution_count": null,
      "outputs": [
        {
          "output_type": "stream",
          "name": "stdout",
          "text": [
            "Mounted at /gdrive\n"
          ]
        }
      ]
    },
    {
      "cell_type": "code",
      "source": [
        "vocab_list = []\n",
        "vocab_path = '/gdrive/MyDrive/Lecturer/W6/data/multi-bert-cased-vocab.txt' # vocab 위치\n",
        "\n",
        "with open(vocab_path) as f:\n",
        "    while True:\n",
        "        vocab = f.readline()\n",
        "        if vocab == '':\n",
        "            break\n",
        "        vocab_list.append(vocab.replace('\\n',''))\n",
        "len(vocab_list)"
      ],
      "metadata": {
        "colab": {
          "base_uri": "https://localhost:8080/"
        },
        "id": "OPXNsjPQlW6T",
        "outputId": "2baa9426-32b4-44a3-d3ea-0eda2783e91a"
      },
      "execution_count": null,
      "outputs": [
        {
          "output_type": "execute_result",
          "data": {
            "text/plain": [
              "119547"
            ]
          },
          "metadata": {},
          "execution_count": 4
        }
      ]
    },
    {
      "cell_type": "code",
      "source": [
        "vocab_list[50000:50000+10]"
      ],
      "metadata": {
        "colab": {
          "base_uri": "https://localhost:8080/"
        },
        "id": "DI8-Hju2l1Gd",
        "outputId": "a4c666f0-c558-48a2-a2d3-b2fba9eb58da"
      },
      "execution_count": null,
      "outputs": [
        {
          "output_type": "execute_result",
          "data": {
            "text/plain": [
              "['héros',\n",
              " 'особено',\n",
              " 'Championnats',\n",
              " '1576',\n",
              " 'occitana',\n",
              " 'spoke',\n",
              " '##ạo',\n",
              " 'exclusive',\n",
              " 'Републике',\n",
              " 'ফুট']"
            ]
          },
          "metadata": {},
          "execution_count": 6
        }
      ]
    },
    {
      "cell_type": "markdown",
      "source": [
        "- BERT (MLM: Masked Languge Model) 모델 불러오기\n",
        "> 빈칸에 나올 단어를 예측하는 모델"
      ],
      "metadata": {
        "id": "AouBKioFmM_u"
      }
    },
    {
      "cell_type": "code",
      "source": [
        "# Multilingual BERT 모델 위치: https://tfhub.dev/tensorflow/bert_multi_cased_L-12_H-768_A-12/4\n",
        "seq_length = 128 \n",
        "num_predict = 20\n",
        "\n",
        "mlm_inputs = dict(\n",
        "    input_word_ids=tf.keras.layers.Input(shape=(seq_length,), dtype=tf.int32),\n",
        "    input_mask=tf.keras.layers.Input(shape=(seq_length,), dtype=tf.int32),\n",
        "    input_type_ids=tf.keras.layers.Input(shape=(seq_length,), dtype=tf.int32),\n",
        "    masked_lm_positions=tf.keras.layers.Input(shape=(num_predict,), dtype=tf.int32),\n",
        ")\n",
        "\n",
        "encoder = hub.load(\"https://tfhub.dev/tensorflow/bert_multi_cased_L-12_H-768_A-12/4\")\n",
        "mlm = hub.KerasLayer(encoder.mlm, trainable=False)\n",
        "mlm_outputs = mlm(mlm_inputs)\n",
        "mlm_logits = mlm_outputs[\"mlm_logits\"]  # [batch_size, num_predict, vocab_size]\n",
        "mlm_model = tf.keras.Model(mlm_inputs, mlm_logits)\n",
        "# mlm_model.summary()"
      ],
      "metadata": {
        "id": "eKYZuZLcmRj7"
      },
      "execution_count": null,
      "outputs": []
    },
    {
      "cell_type": "code",
      "source": [
        "FIRST_INPUT_INSTANCE = None\n",
        "LAST_INPUT_INSTANCE = None\n",
        "\n",
        "def predict_mlm(sentence, topn=5):\n",
        "    global FIRST_INPUT_INSTANCE, LAST_INPUT_INSTANCE\n",
        "    sentence_tensor = tf.constant([sentence])\n",
        "    input_tensors = preprocessed_text(sentence_tensor)\n",
        "    FIRST_INPUT_INSTANCE = input_tensors.copy()\n",
        "\n",
        "    masked_position = np.argwhere(input_tensors['input_word_ids'].numpy()[0] == 168)[0][0] \n",
        "    input_masked_lm_positions = tf.constant([[masked_position]])\n",
        "\n",
        "    bool_list = [[True]* 128]\n",
        "    bool_list[0][masked_position] = False\n",
        "    y = [[103] * 128]\n",
        "\n",
        "    mask_next_idx = input_tensors['input_word_ids'].numpy()[0][masked_position+1]\n",
        "    if mask_next_idx in [9633, 9233]: # 을, 를\n",
        "        y[0][masked_position+1] = {9633: 10622, 9233: 11513}[mask_next_idx]\n",
        "        bool_list[0][masked_position+1] = False\n",
        "    input_tensors['input_word_ids'] = tf.where(bool_list, input_tensors['input_word_ids'], y)\n",
        "\n",
        "    input_instance = dict(\n",
        "        input_word_ids=input_tensors['input_word_ids'],\n",
        "        input_mask=input_tensors['input_mask'],\n",
        "        input_type_ids=input_tensors['input_type_ids'],\n",
        "        masked_lm_positions=input_masked_lm_positions\n",
        "    )\n",
        "\n",
        "    LAST_INPUT_INSTANCE = input_instance\n",
        "    output = mlm_model(input_instance)\n",
        "    # print(\"output.shape:\", output.shape)\n",
        "    output_np = tf.nn.softmax(output).numpy()[0][0]\n",
        "\n",
        "    return np.array(vocab_list)[np.argsort(-1 * output_np)][:topn].tolist()"
      ],
      "metadata": {
        "id": "vklpwx4jmqeU"
      },
      "execution_count": null,
      "outputs": []
    },
    {
      "cell_type": "code",
      "source": [
        "vocab_list[9633]"
      ],
      "metadata": {
        "colab": {
          "base_uri": "https://localhost:8080/",
          "height": 35
        },
        "id": "hyRxQMFBov9C",
        "outputId": "8e809880-e6bc-4cc8-c7dd-7a2993260e5c"
      },
      "execution_count": null,
      "outputs": [
        {
          "output_type": "execute_result",
          "data": {
            "text/plain": [
              "'을'"
            ],
            "application/vnd.google.colaboratory.intrinsic+json": {
              "type": "string"
            }
          },
          "metadata": {},
          "execution_count": 16
        }
      ]
    },
    {
      "cell_type": "code",
      "source": [
        "vocab_list[9233]"
      ],
      "metadata": {
        "colab": {
          "base_uri": "https://localhost:8080/",
          "height": 35
        },
        "id": "QTf6GNLUoz3T",
        "outputId": "324f9ede-1327-4e1f-dc47-989ce8ce4ee8"
      },
      "execution_count": null,
      "outputs": [
        {
          "output_type": "execute_result",
          "data": {
            "text/plain": [
              "'를'"
            ],
            "application/vnd.google.colaboratory.intrinsic+json": {
              "type": "string"
            }
          },
          "metadata": {},
          "execution_count": 17
        }
      ]
    },
    {
      "cell_type": "code",
      "source": [
        "vocab_list[10622]"
      ],
      "metadata": {
        "colab": {
          "base_uri": "https://localhost:8080/",
          "height": 35
        },
        "id": "ICYoBdAqo1TS",
        "outputId": "7a08f8b6-347a-4c88-f4a5-d03e8ebac327"
      },
      "execution_count": null,
      "outputs": [
        {
          "output_type": "execute_result",
          "data": {
            "text/plain": [
              "'##을'"
            ],
            "application/vnd.google.colaboratory.intrinsic+json": {
              "type": "string"
            }
          },
          "metadata": {},
          "execution_count": 18
        }
      ]
    },
    {
      "cell_type": "code",
      "source": [
        "vocab_list[11513]"
      ],
      "metadata": {
        "colab": {
          "base_uri": "https://localhost:8080/",
          "height": 35
        },
        "id": "t8IAVjDmo4sT",
        "outputId": "c03b19d3-b763-4641-8371-4f234813285f"
      },
      "execution_count": null,
      "outputs": [
        {
          "output_type": "execute_result",
          "data": {
            "text/plain": [
              "'##를'"
            ],
            "application/vnd.google.colaboratory.intrinsic+json": {
              "type": "string"
            }
          },
          "metadata": {},
          "execution_count": 19
        }
      ]
    },
    {
      "cell_type": "code",
      "source": [
        "predict_mlm('나는 _을 하는 것을 좋아해요.')"
      ],
      "metadata": {
        "colab": {
          "base_uri": "https://localhost:8080/"
        },
        "id": "kKqpp7DnmyDD",
        "outputId": "aac1e4b7-f31c-4185-bb0f-644ebbb55f02"
      },
      "execution_count": null,
      "outputs": [
        {
          "output_type": "execute_result",
          "data": {
            "text/plain": [
              "['말', '음악', '술', '가', '마']"
            ]
          },
          "metadata": {},
          "execution_count": 9
        }
      ]
    },
    {
      "cell_type": "code",
      "source": [
        "predict_mlm('운동 선수는 _를 잘 합니다.')"
      ],
      "metadata": {
        "colab": {
          "base_uri": "https://localhost:8080/"
        },
        "id": "-VgGyPnHm3ED",
        "outputId": "96d78c4c-c3b8-46e6-8a42-7a2727d5eaeb"
      },
      "execution_count": null,
      "outputs": [
        {
          "output_type": "execute_result",
          "data": {
            "text/plain": [
              "['축구', '선수', '야구', '경기', '영어']"
            ]
          },
          "metadata": {},
          "execution_count": 10
        }
      ]
    },
    {
      "cell_type": "code",
      "source": [
        "predict_mlm('축구 선수는 _를 잘 합니다.')"
      ],
      "metadata": {
        "colab": {
          "base_uri": "https://localhost:8080/"
        },
        "id": "UJGXay48nAGj",
        "outputId": "be91b683-4110-4c58-ab87-4b7adbf6c381"
      },
      "execution_count": null,
      "outputs": [
        {
          "output_type": "execute_result",
          "data": {
            "text/plain": [
              "['축구', '선수', '경기', '야구', '영어']"
            ]
          },
          "metadata": {},
          "execution_count": 11
        }
      ]
    },
    {
      "cell_type": "code",
      "source": [
        "predict_mlm('_ is a city in England.')"
      ],
      "metadata": {
        "colab": {
          "base_uri": "https://localhost:8080/"
        },
        "id": "XgchnwXBnF4q",
        "outputId": "a55baa67-218b-4222-915a-1ebd6e2451b9"
      },
      "execution_count": null,
      "outputs": [
        {
          "output_type": "execute_result",
          "data": {
            "text/plain": [
              "['London', 'Cheshire', 'England', 'Oxford', 'Birmingham']"
            ]
          },
          "metadata": {},
          "execution_count": 12
        }
      ]
    },
    {
      "cell_type": "code",
      "source": [
        "predict_mlm('_ is a programming language')"
      ],
      "metadata": {
        "colab": {
          "base_uri": "https://localhost:8080/"
        },
        "id": "-wOuwuhnnK7T",
        "outputId": "55e8f855-90db-4018-d477-e3af1358c3e6"
      },
      "execution_count": null,
      "outputs": [
        {
          "output_type": "execute_result",
          "data": {
            "text/plain": [
              "['Pascal', 'Python', 'programming', 'language', 'C']"
            ]
          },
          "metadata": {},
          "execution_count": 13
        }
      ]
    },
    {
      "cell_type": "code",
      "source": [
        "def run_bert_mlm():\n",
        "    print('==================== BERT로 빈칸에 올 단어 예측 ====================')\n",
        "    while True:\n",
        "        sentence = input('빈칸과 함께 문장을 입력해주세요: ')\n",
        "        if sentence == '0':\n",
        "            break\n",
        "        pred = predict_mlm(sentence)\n",
        "\n",
        "        for i, token in enumerate(pred):\n",
        "            print('{}위: {}'.format(i+1, token))\n",
        "        print('==============================================================')"
      ],
      "metadata": {
        "id": "5PghAraunOqL"
      },
      "execution_count": null,
      "outputs": []
    },
    {
      "cell_type": "code",
      "source": [
        "run_bert_mlm()"
      ],
      "metadata": {
        "colab": {
          "base_uri": "https://localhost:8080/",
          "height": 1000
        },
        "id": "AvGYsRW_nW-7",
        "outputId": "ebcd8790-b503-41b4-9e81-4bc4208c686a"
      },
      "execution_count": null,
      "outputs": [
        {
          "output_type": "stream",
          "name": "stdout",
          "text": [
            "==================== BERT로 빈칸에 올 단어 예측 ====================\n",
            "빈칸과 함께 문장을 입력해주세요: _ is a city in South Korea.\n",
            "1위: Seoul\n",
            "2위: .\n",
            "3위: ,\n",
            "4위: -\n",
            "5위: Korea\n",
            "==============================================================\n",
            "빈칸과 함께 문장을 입력해주세요: Seoul is a _ in South Korea.\n",
            "1위: city\n",
            "2위: state\n",
            "3위: capital\n",
            "4위: port\n",
            "5위: town\n",
            "==============================================================\n",
            "빈칸과 함께 문장을 입력해주세요: 운동 선수는 _을 잘 합니다.\n",
            "1위: 술\n",
            "2위: 몸\n",
            "3위: 힘\n",
            "4위: 손\n",
            "5위: 목\n",
            "==============================================================\n",
            "빈칸과 함께 문장을 입력해주세요: 운동 선수는 _를 잘 합니다.\n",
            "1위: 축구\n",
            "2위: 선수\n",
            "3위: 야구\n",
            "4위: 경기\n",
            "5위: 영어\n",
            "==============================================================\n",
            "빈칸과 함께 문장을 입력해주세요: _ is a programming language.\n",
            "1위: Python\n",
            "2위: PHP\n",
            "3위: C\n",
            "4위: language\n",
            "5위: Java\n",
            "==============================================================\n",
            "빈칸과 함께 문장을 입력해주세요: 我喜欢吃_。\n",
            "1위: 吃\n",
            "2위: 饭\n",
            "3위: 人\n",
            "4위: 了\n",
            "5위: 的\n",
            "==============================================================\n"
          ]
        },
        {
          "output_type": "error",
          "ename": "KeyboardInterrupt",
          "evalue": "ignored",
          "traceback": [
            "\u001b[0;31m---------------------------------------------------------------------------\u001b[0m",
            "\u001b[0;31mKeyboardInterrupt\u001b[0m                         Traceback (most recent call last)",
            "\u001b[0;32m<ipython-input-15-6918b253d55d>\u001b[0m in \u001b[0;36m<cell line: 1>\u001b[0;34m()\u001b[0m\n\u001b[0;32m----> 1\u001b[0;31m \u001b[0mrun_bert_mlm\u001b[0m\u001b[0;34m(\u001b[0m\u001b[0;34m)\u001b[0m\u001b[0;34m\u001b[0m\u001b[0;34m\u001b[0m\u001b[0m\n\u001b[0m",
            "\u001b[0;32m<ipython-input-14-6e9b4e9a56bf>\u001b[0m in \u001b[0;36mrun_bert_mlm\u001b[0;34m()\u001b[0m\n\u001b[1;32m      2\u001b[0m     \u001b[0mprint\u001b[0m\u001b[0;34m(\u001b[0m\u001b[0;34m'==================== BERT로 빈칸에 올 단어 예측 ===================='\u001b[0m\u001b[0;34m)\u001b[0m\u001b[0;34m\u001b[0m\u001b[0;34m\u001b[0m\u001b[0m\n\u001b[1;32m      3\u001b[0m     \u001b[0;32mwhile\u001b[0m \u001b[0;32mTrue\u001b[0m\u001b[0;34m:\u001b[0m\u001b[0;34m\u001b[0m\u001b[0;34m\u001b[0m\u001b[0m\n\u001b[0;32m----> 4\u001b[0;31m         \u001b[0msentence\u001b[0m \u001b[0;34m=\u001b[0m \u001b[0minput\u001b[0m\u001b[0;34m(\u001b[0m\u001b[0;34m'빈칸과 함께 문장을 입력해주세요: '\u001b[0m\u001b[0;34m)\u001b[0m\u001b[0;34m\u001b[0m\u001b[0;34m\u001b[0m\u001b[0m\n\u001b[0m\u001b[1;32m      5\u001b[0m         \u001b[0;32mif\u001b[0m \u001b[0msentence\u001b[0m \u001b[0;34m==\u001b[0m \u001b[0;34m'0'\u001b[0m\u001b[0;34m:\u001b[0m\u001b[0;34m\u001b[0m\u001b[0;34m\u001b[0m\u001b[0m\n\u001b[1;32m      6\u001b[0m             \u001b[0;32mbreak\u001b[0m\u001b[0;34m\u001b[0m\u001b[0;34m\u001b[0m\u001b[0m\n",
            "\u001b[0;32m/usr/local/lib/python3.10/dist-packages/ipykernel/kernelbase.py\u001b[0m in \u001b[0;36mraw_input\u001b[0;34m(self, prompt)\u001b[0m\n\u001b[1;32m    849\u001b[0m                 \u001b[0;34m\"raw_input was called, but this frontend does not support input requests.\"\u001b[0m\u001b[0;34m\u001b[0m\u001b[0;34m\u001b[0m\u001b[0m\n\u001b[1;32m    850\u001b[0m             )\n\u001b[0;32m--> 851\u001b[0;31m         return self._input_request(str(prompt),\n\u001b[0m\u001b[1;32m    852\u001b[0m             \u001b[0mself\u001b[0m\u001b[0;34m.\u001b[0m\u001b[0m_parent_ident\u001b[0m\u001b[0;34m,\u001b[0m\u001b[0;34m\u001b[0m\u001b[0;34m\u001b[0m\u001b[0m\n\u001b[1;32m    853\u001b[0m             \u001b[0mself\u001b[0m\u001b[0;34m.\u001b[0m\u001b[0m_parent_header\u001b[0m\u001b[0;34m,\u001b[0m\u001b[0;34m\u001b[0m\u001b[0;34m\u001b[0m\u001b[0m\n",
            "\u001b[0;32m/usr/local/lib/python3.10/dist-packages/ipykernel/kernelbase.py\u001b[0m in \u001b[0;36m_input_request\u001b[0;34m(self, prompt, ident, parent, password)\u001b[0m\n\u001b[1;32m    893\u001b[0m             \u001b[0;32mexcept\u001b[0m \u001b[0mKeyboardInterrupt\u001b[0m\u001b[0;34m:\u001b[0m\u001b[0;34m\u001b[0m\u001b[0;34m\u001b[0m\u001b[0m\n\u001b[1;32m    894\u001b[0m                 \u001b[0;31m# re-raise KeyboardInterrupt, to truncate traceback\u001b[0m\u001b[0;34m\u001b[0m\u001b[0;34m\u001b[0m\u001b[0m\n\u001b[0;32m--> 895\u001b[0;31m                 \u001b[0;32mraise\u001b[0m \u001b[0mKeyboardInterrupt\u001b[0m\u001b[0;34m(\u001b[0m\u001b[0;34m\"Interrupted by user\"\u001b[0m\u001b[0;34m)\u001b[0m \u001b[0;32mfrom\u001b[0m \u001b[0;32mNone\u001b[0m\u001b[0;34m\u001b[0m\u001b[0;34m\u001b[0m\u001b[0m\n\u001b[0m\u001b[1;32m    896\u001b[0m             \u001b[0;32mexcept\u001b[0m \u001b[0mException\u001b[0m \u001b[0;32mas\u001b[0m \u001b[0me\u001b[0m\u001b[0;34m:\u001b[0m\u001b[0;34m\u001b[0m\u001b[0;34m\u001b[0m\u001b[0m\n\u001b[1;32m    897\u001b[0m                 \u001b[0mself\u001b[0m\u001b[0;34m.\u001b[0m\u001b[0mlog\u001b[0m\u001b[0;34m.\u001b[0m\u001b[0mwarning\u001b[0m\u001b[0;34m(\u001b[0m\u001b[0;34m\"Invalid Message:\"\u001b[0m\u001b[0;34m,\u001b[0m \u001b[0mexc_info\u001b[0m\u001b[0;34m=\u001b[0m\u001b[0;32mTrue\u001b[0m\u001b[0;34m)\u001b[0m\u001b[0;34m\u001b[0m\u001b[0;34m\u001b[0m\u001b[0m\n",
            "\u001b[0;31mKeyboardInterrupt\u001b[0m: Interrupted by user"
          ]
        }
      ]
    }
  ]
}