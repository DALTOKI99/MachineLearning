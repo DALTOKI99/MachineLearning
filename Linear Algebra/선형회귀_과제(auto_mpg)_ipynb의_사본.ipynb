{
  "metadata": {
    "language_info": {
      "codemirror_mode": {
        "name": "ipython",
        "version": 3
      },
      "file_extension": ".py",
      "mimetype": "text/x-python",
      "name": "python",
      "nbconvert_exporter": "python",
      "pygments_lexer": "ipython3",
      "version": "3.7.3"
    },
    "orig_nbformat": 4,
    "kernelspec": {
      "name": "python3",
      "display_name": "Python 3.7.3 64-bit ('base': conda)"
    },
    "interpreter": {
      "hash": "cef9e06bb236b2a8629b07e87a04b187b952a0f661eff5533360a155783f0c33"
    },
    "colab": {
      "provenance": []
    }
  },
  "nbformat": 4,
  "nbformat_minor": 0,
  "cells": [
    {
      "source": [
        "## 선형회귀 과제\n",
        "## 자동차의 특성을 통해 연비 (mpg(miles per gallon)) 예측"
      ],
      "cell_type": "markdown",
      "metadata": {
        "id": "bKnOS0kNo0cH"
      }
    },
    {
      "cell_type": "code",
      "execution_count": null,
      "metadata": {
        "id": "tGRQvIw1o0cK"
      },
      "outputs": [],
      "source": [
        "import pandas as pd\n",
        "import numpy as np\n",
        "import matplotlib.pyplot as plt\n"
      ]
    },
    {
      "source": [
        "# 1. 데이터 불러오기"
      ],
      "cell_type": "markdown",
      "metadata": {
        "id": "9p4wQpFto0cL"
      }
    },
    {
      "cell_type": "code",
      "execution_count": null,
      "metadata": {
        "id": "lZnzx_5Bo0cL",
        "outputId": "d4f7fbd3-aa1b-4eee-c7fc-ab19c02fcc74",
        "colab": {
          "base_uri": "https://localhost:8080/",
          "height": 206
        }
      },
      "outputs": [
        {
          "output_type": "execute_result",
          "data": {
            "text/plain": [
              "    mpg  cylinders  displacement  horsepower  weight  acceleration  \\\n",
              "0  18.0          8         307.0       130.0  3504.0          12.0   \n",
              "1  15.0          8         350.0       165.0  3693.0          11.5   \n",
              "2  18.0          8         318.0       150.0  3436.0          11.0   \n",
              "3  16.0          8         304.0       150.0  3433.0          12.0   \n",
              "4  17.0          8         302.0       140.0  3449.0          10.5   \n",
              "\n",
              "   model_year  origin                   car_name  \n",
              "0          70       1  chevrolet chevelle malibu  \n",
              "1          70       1          buick skylark 320  \n",
              "2          70       1         plymouth satellite  \n",
              "3          70       1              amc rebel sst  \n",
              "4          70       1                ford torino  "
            ],
            "text/html": [
              "\n",
              "  <div id=\"df-ffd49640-aee4-4830-ac6b-0ebab32ea58b\">\n",
              "    <div class=\"colab-df-container\">\n",
              "      <div>\n",
              "<style scoped>\n",
              "    .dataframe tbody tr th:only-of-type {\n",
              "        vertical-align: middle;\n",
              "    }\n",
              "\n",
              "    .dataframe tbody tr th {\n",
              "        vertical-align: top;\n",
              "    }\n",
              "\n",
              "    .dataframe thead th {\n",
              "        text-align: right;\n",
              "    }\n",
              "</style>\n",
              "<table border=\"1\" class=\"dataframe\">\n",
              "  <thead>\n",
              "    <tr style=\"text-align: right;\">\n",
              "      <th></th>\n",
              "      <th>mpg</th>\n",
              "      <th>cylinders</th>\n",
              "      <th>displacement</th>\n",
              "      <th>horsepower</th>\n",
              "      <th>weight</th>\n",
              "      <th>acceleration</th>\n",
              "      <th>model_year</th>\n",
              "      <th>origin</th>\n",
              "      <th>car_name</th>\n",
              "    </tr>\n",
              "  </thead>\n",
              "  <tbody>\n",
              "    <tr>\n",
              "      <th>0</th>\n",
              "      <td>18.0</td>\n",
              "      <td>8</td>\n",
              "      <td>307.0</td>\n",
              "      <td>130.0</td>\n",
              "      <td>3504.0</td>\n",
              "      <td>12.0</td>\n",
              "      <td>70</td>\n",
              "      <td>1</td>\n",
              "      <td>chevrolet chevelle malibu</td>\n",
              "    </tr>\n",
              "    <tr>\n",
              "      <th>1</th>\n",
              "      <td>15.0</td>\n",
              "      <td>8</td>\n",
              "      <td>350.0</td>\n",
              "      <td>165.0</td>\n",
              "      <td>3693.0</td>\n",
              "      <td>11.5</td>\n",
              "      <td>70</td>\n",
              "      <td>1</td>\n",
              "      <td>buick skylark 320</td>\n",
              "    </tr>\n",
              "    <tr>\n",
              "      <th>2</th>\n",
              "      <td>18.0</td>\n",
              "      <td>8</td>\n",
              "      <td>318.0</td>\n",
              "      <td>150.0</td>\n",
              "      <td>3436.0</td>\n",
              "      <td>11.0</td>\n",
              "      <td>70</td>\n",
              "      <td>1</td>\n",
              "      <td>plymouth satellite</td>\n",
              "    </tr>\n",
              "    <tr>\n",
              "      <th>3</th>\n",
              "      <td>16.0</td>\n",
              "      <td>8</td>\n",
              "      <td>304.0</td>\n",
              "      <td>150.0</td>\n",
              "      <td>3433.0</td>\n",
              "      <td>12.0</td>\n",
              "      <td>70</td>\n",
              "      <td>1</td>\n",
              "      <td>amc rebel sst</td>\n",
              "    </tr>\n",
              "    <tr>\n",
              "      <th>4</th>\n",
              "      <td>17.0</td>\n",
              "      <td>8</td>\n",
              "      <td>302.0</td>\n",
              "      <td>140.0</td>\n",
              "      <td>3449.0</td>\n",
              "      <td>10.5</td>\n",
              "      <td>70</td>\n",
              "      <td>1</td>\n",
              "      <td>ford torino</td>\n",
              "    </tr>\n",
              "  </tbody>\n",
              "</table>\n",
              "</div>\n",
              "      <button class=\"colab-df-convert\" onclick=\"convertToInteractive('df-ffd49640-aee4-4830-ac6b-0ebab32ea58b')\"\n",
              "              title=\"Convert this dataframe to an interactive table.\"\n",
              "              style=\"display:none;\">\n",
              "        \n",
              "  <svg xmlns=\"http://www.w3.org/2000/svg\" height=\"24px\"viewBox=\"0 0 24 24\"\n",
              "       width=\"24px\">\n",
              "    <path d=\"M0 0h24v24H0V0z\" fill=\"none\"/>\n",
              "    <path d=\"M18.56 5.44l.94 2.06.94-2.06 2.06-.94-2.06-.94-.94-2.06-.94 2.06-2.06.94zm-11 1L8.5 8.5l.94-2.06 2.06-.94-2.06-.94L8.5 2.5l-.94 2.06-2.06.94zm10 10l.94 2.06.94-2.06 2.06-.94-2.06-.94-.94-2.06-.94 2.06-2.06.94z\"/><path d=\"M17.41 7.96l-1.37-1.37c-.4-.4-.92-.59-1.43-.59-.52 0-1.04.2-1.43.59L10.3 9.45l-7.72 7.72c-.78.78-.78 2.05 0 2.83L4 21.41c.39.39.9.59 1.41.59.51 0 1.02-.2 1.41-.59l7.78-7.78 2.81-2.81c.8-.78.8-2.07 0-2.86zM5.41 20L4 18.59l7.72-7.72 1.47 1.35L5.41 20z\"/>\n",
              "  </svg>\n",
              "      </button>\n",
              "      \n",
              "  <style>\n",
              "    .colab-df-container {\n",
              "      display:flex;\n",
              "      flex-wrap:wrap;\n",
              "      gap: 12px;\n",
              "    }\n",
              "\n",
              "    .colab-df-convert {\n",
              "      background-color: #E8F0FE;\n",
              "      border: none;\n",
              "      border-radius: 50%;\n",
              "      cursor: pointer;\n",
              "      display: none;\n",
              "      fill: #1967D2;\n",
              "      height: 32px;\n",
              "      padding: 0 0 0 0;\n",
              "      width: 32px;\n",
              "    }\n",
              "\n",
              "    .colab-df-convert:hover {\n",
              "      background-color: #E2EBFA;\n",
              "      box-shadow: 0px 1px 2px rgba(60, 64, 67, 0.3), 0px 1px 3px 1px rgba(60, 64, 67, 0.15);\n",
              "      fill: #174EA6;\n",
              "    }\n",
              "\n",
              "    [theme=dark] .colab-df-convert {\n",
              "      background-color: #3B4455;\n",
              "      fill: #D2E3FC;\n",
              "    }\n",
              "\n",
              "    [theme=dark] .colab-df-convert:hover {\n",
              "      background-color: #434B5C;\n",
              "      box-shadow: 0px 1px 3px 1px rgba(0, 0, 0, 0.15);\n",
              "      filter: drop-shadow(0px 1px 2px rgba(0, 0, 0, 0.3));\n",
              "      fill: #FFFFFF;\n",
              "    }\n",
              "  </style>\n",
              "\n",
              "      <script>\n",
              "        const buttonEl =\n",
              "          document.querySelector('#df-ffd49640-aee4-4830-ac6b-0ebab32ea58b button.colab-df-convert');\n",
              "        buttonEl.style.display =\n",
              "          google.colab.kernel.accessAllowed ? 'block' : 'none';\n",
              "\n",
              "        async function convertToInteractive(key) {\n",
              "          const element = document.querySelector('#df-ffd49640-aee4-4830-ac6b-0ebab32ea58b');\n",
              "          const dataTable =\n",
              "            await google.colab.kernel.invokeFunction('convertToInteractive',\n",
              "                                                     [key], {});\n",
              "          if (!dataTable) return;\n",
              "\n",
              "          const docLinkHtml = 'Like what you see? Visit the ' +\n",
              "            '<a target=\"_blank\" href=https://colab.research.google.com/notebooks/data_table.ipynb>data table notebook</a>'\n",
              "            + ' to learn more about interactive tables.';\n",
              "          element.innerHTML = '';\n",
              "          dataTable['output_type'] = 'display_data';\n",
              "          await google.colab.output.renderOutput(dataTable, element);\n",
              "          const docLink = document.createElement('div');\n",
              "          docLink.innerHTML = docLinkHtml;\n",
              "          element.appendChild(docLink);\n",
              "        }\n",
              "      </script>\n",
              "    </div>\n",
              "  </div>\n",
              "  "
            ]
          },
          "metadata": {},
          "execution_count": 2
        }
      ],
      "source": [
        "# 데이터 출처: https://archive.ics.uci.edu/ml/datasets/auto+mpg\n",
        "\n",
        "col_names = ['mpg', 'cylinders', 'displacement', 'horsepower', 'weight', 'acceleration', 'model_year', 'origin', 'car_name']\n",
        "\n",
        "# 주요 컬럼: \n",
        "# mpg: mile per gallon 연비\n",
        "# horsepower: 마력\n",
        "# weight: 무게\n",
        "# origin: 제조국 (1: USA, 2: Europe, 3: Asia)\n",
        "\n",
        "# comma가 아니라 whitespace로 컬럼 분리, ? 값는 결측치로 처리함\n",
        "df = pd.read_csv('auto-mpg.data', delim_whitespace=True, names=col_names, na_values='?') \n",
        "df.head()"
      ]
    },
    {
      "cell_type": "code",
      "execution_count": null,
      "metadata": {
        "id": "TbCSRy9co0cM",
        "outputId": "e18df135-85fc-4094-c4df-9382b93ee8f9",
        "colab": {
          "base_uri": "https://localhost:8080/"
        }
      },
      "outputs": [
        {
          "output_type": "stream",
          "name": "stdout",
          "text": [
            "<class 'pandas.core.frame.DataFrame'>\n",
            "RangeIndex: 398 entries, 0 to 397\n",
            "Data columns (total 9 columns):\n",
            " #   Column        Non-Null Count  Dtype  \n",
            "---  ------        --------------  -----  \n",
            " 0   mpg           398 non-null    float64\n",
            " 1   cylinders     398 non-null    int64  \n",
            " 2   displacement  398 non-null    float64\n",
            " 3   horsepower    392 non-null    float64\n",
            " 4   weight        398 non-null    float64\n",
            " 5   acceleration  398 non-null    float64\n",
            " 6   model_year    398 non-null    int64  \n",
            " 7   origin        398 non-null    int64  \n",
            " 8   car_name      398 non-null    object \n",
            "dtypes: float64(5), int64(3), object(1)\n",
            "memory usage: 28.1+ KB\n"
          ]
        }
      ],
      "source": [
        "df.info()"
      ]
    },
    {
      "cell_type": "code",
      "execution_count": null,
      "metadata": {
        "id": "nA-ohh97o0cM",
        "outputId": "f11fbfda-d511-4067-e74c-23d5762feb78",
        "colab": {
          "base_uri": "https://localhost:8080/"
        }
      },
      "outputs": [
        {
          "output_type": "execute_result",
          "data": {
            "text/plain": [
              "mpg             0\n",
              "cylinders       0\n",
              "displacement    0\n",
              "horsepower      6\n",
              "weight          0\n",
              "acceleration    0\n",
              "model_year      0\n",
              "origin          0\n",
              "car_name        0\n",
              "dtype: int64"
            ]
          },
          "metadata": {},
          "execution_count": 4
        }
      ],
      "source": [
        "np.sum(df.isna()) # isna함수를 사용하여 horsepower 변수에만 6개의 null값이 있는 것 확인 가능"
      ]
    },
    {
      "source": [
        "# 2. 데이터의 이해"
      ],
      "cell_type": "markdown",
      "metadata": {
        "id": "z4hFsW-qo0cM"
      }
    },
    {
      "source": [
        "## 2.1 Null값이 하나라도 들어있는 행 제거 \n",
        "- 모든 행의 non-null 개수가 같아져야 함\n",
        "- np.sum(df.isna())을 통해 null이 있는 변수가 없다는 것 확인"
      ],
      "cell_type": "markdown",
      "metadata": {
        "id": "30pJISPuo0cN"
      }
    },
    {
      "cell_type": "code",
      "execution_count": null,
      "metadata": {
        "id": "v7l4mEq7o0cN"
      },
      "outputs": [],
      "source": [
        "df.dropna(inplace=True)"
      ]
    },
    {
      "cell_type": "code",
      "execution_count": null,
      "metadata": {
        "id": "Nkl9oCyRo0cN",
        "outputId": "07f24792-4a66-40b9-b8e1-1f20557f95b5",
        "colab": {
          "base_uri": "https://localhost:8080/"
        }
      },
      "outputs": [
        {
          "output_type": "execute_result",
          "data": {
            "text/plain": [
              "mpg             0\n",
              "cylinders       0\n",
              "displacement    0\n",
              "horsepower      0\n",
              "weight          0\n",
              "acceleration    0\n",
              "model_year      0\n",
              "origin          0\n",
              "car_name        0\n",
              "dtype: int64"
            ]
          },
          "metadata": {},
          "execution_count": 6
        }
      ],
      "source": [
        "np.sum(df.isna())"
      ]
    },
    {
      "source": [
        "## 2.2 연비(MPG)의 분포는?\n",
        "- 히스토그램과 Boxplot으로 표현하기 \n",
        "- 연비가 낮은 차들이 연비가 높은 차들보다 많이 있는 것을 시각적으로 확인할 수 있음"
      ],
      "cell_type": "markdown",
      "metadata": {
        "id": "lf5g8Dnuo0cN"
      }
    },
    {
      "cell_type": "code",
      "execution_count": null,
      "metadata": {
        "id": "IOHFBaoyo0cN",
        "outputId": "c8f92139-1779-4089-8088-51cb08ab9cf4",
        "colab": {
          "base_uri": "https://localhost:8080/",
          "height": 467
        }
      },
      "outputs": [
        {
          "output_type": "execute_result",
          "data": {
            "text/plain": [
              "Text(0, 0.5, 'Frequency')"
            ]
          },
          "metadata": {},
          "execution_count": 7
        },
        {
          "output_type": "display_data",
          "data": {
            "text/plain": [
              "<Figure size 640x480 with 1 Axes>"
            ],
            "image/png": "[encoded data removed]"
          },
          "metadata": {}
        }
      ],
      "source": [
        "plt.hist(df['mpg'])\n",
        "plt.xlabel('MPG')\n",
        "plt.ylabel('Frequency')"
      ]
    },
    {
      "cell_type": "code",
      "execution_count": null,
      "metadata": {
        "id": "Cm3KEGc-o0cO",
        "outputId": "174ad6df-6b26-40c6-9147-374cddea095b",
        "colab": {
          "base_uri": "https://localhost:8080/",
          "height": 448
        }
      },
      "outputs": [
        {
          "output_type": "execute_result",
          "data": {
            "text/plain": [
              "Text(0, 0.5, 'MPG')"
            ]
          },
          "metadata": {},
          "execution_count": 8
        },
        {
          "output_type": "display_data",
          "data": {
            "text/plain": [
              "<Figure size 640x480 with 1 Axes>"
            ],
            "image/png": "[encoded data removed]"
          },
          "metadata": {}
        }
      ],
      "source": [
        "plt.boxplot(df['mpg'])\n",
        "plt.ylabel('MPG')"
      ]
    },
    {
      "source": [
        "## 2.3 제조국(Origin)에 따른 연비 평균은? \n",
        "- Origin에서 1: USA, 2: Europe, 3: Asia"
      ],
      "cell_type": "markdown",
      "metadata": {
        "id": "omtFJ0Abo0cO"
      }
    },
    {
      "cell_type": "code",
      "execution_count": null,
      "metadata": {
        "id": "HrhzJHLDo0cO",
        "outputId": "e6117971-2469-4723-9486-e2fc5313b6d4",
        "colab": {
          "base_uri": "https://localhost:8080/"
        }
      },
      "outputs": [
        {
          "output_type": "stream",
          "name": "stderr",
          "text": [
            "<ipython-input-9-ff11bcc4a8dd>:1: FutureWarning: The default value of numeric_only in DataFrameGroupBy.mean is deprecated. In a future version, numeric_only will default to False. Either specify numeric_only or select only columns which should be valid for the function.\n",
            "  mpgs = df.groupby('origin').mean()['mpg']\n"
          ]
        },
        {
          "output_type": "execute_result",
          "data": {
            "text/plain": [
              "origin\n",
              "1    20.033469\n",
              "2    27.602941\n",
              "3    30.450633\n",
              "Name: mpg, dtype: float64"
            ]
          },
          "metadata": {},
          "execution_count": 9
        }
      ],
      "source": [
        "mpgs = df.groupby('origin').mean()['mpg']\n",
        "mpgs"
      ]
    },
    {
      "cell_type": "code",
      "execution_count": null,
      "metadata": {
        "id": "KaRagN16o0cO",
        "outputId": "697ca5d8-943b-4a12-c55f-e732c02b5073",
        "colab": {
          "base_uri": "https://localhost:8080/",
          "height": 467
        }
      },
      "outputs": [
        {
          "output_type": "execute_result",
          "data": {
            "text/plain": [
              "Text(0, 0.5, 'MPG (mean)')"
            ]
          },
          "metadata": {},
          "execution_count": 10
        },
        {
          "output_type": "display_data",
          "data": {
            "text/plain": [
              "<Figure size 640x480 with 1 Axes>"
            ],
            "image/png": "[encoded data removed]"
          },
          "metadata": {}
        }
      ],
      "source": [
        "plt.bar(['USA', 'Europe', 'Asia'], mpgs)\n",
        "plt.xlabel('Origin')\n",
        "plt.ylabel('MPG (mean)')"
      ]
    },
    {
      "source": [
        "## 2.4 차의 무게(Weight)와 연비(MPG)의 관계는?\n",
        "- Scatter plot과 상관계수 구하기 "
      ],
      "cell_type": "markdown",
      "metadata": {
        "id": "8g3n6pMto0cO"
      }
    },
    {
      "cell_type": "code",
      "execution_count": null,
      "metadata": {
        "id": "xD65Qlx4o0cO",
        "outputId": "5f248071-93d1-4400-fffe-c0141d0b1406",
        "colab": {
          "base_uri": "https://localhost:8080/",
          "height": 467
        }
      },
      "outputs": [
        {
          "output_type": "execute_result",
          "data": {
            "text/plain": [
              "Text(0, 0.5, 'MPG')"
            ]
          },
          "metadata": {},
          "execution_count": 11
        },
        {
          "output_type": "display_data",
          "data": {
            "text/plain": [
              "<Figure size 640x480 with 1 Axes>"
            ],
            "image/png": "[encoded data removed]"
          },
          "metadata": {}
        }
      ],
      "source": [
        "plt.scatter(df['weight'], df['mpg'])\n",
        "plt.xlabel('Weight')\n",
        "plt.ylabel('MPG')"
      ]
    },
    {
      "cell_type": "code",
      "execution_count": null,
      "metadata": {
        "id": "GeS6aXywo0cO",
        "outputId": "b5c536c6-16a2-4cbd-a19a-dad002baa7ac",
        "colab": {
          "base_uri": "https://localhost:8080/"
        }
      },
      "outputs": [
        {
          "output_type": "execute_result",
          "data": {
            "text/plain": [
              "array([[ 1.        , -0.83224421],\n",
              "       [-0.83224421,  1.        ]])"
            ]
          },
          "metadata": {},
          "execution_count": 12
        }
      ],
      "source": [
        "np.corrcoef(df['weight'], df['mpg'])"
      ]
    },
    {
      "source": [
        "## 2.5 마력(Horsepower)과 연비(MPG)의 관계는?\n",
        "- Scatter plot과 상관계수 구하기 "
      ],
      "cell_type": "markdown",
      "metadata": {
        "id": "dDVoZDPWo0cP"
      }
    },
    {
      "cell_type": "code",
      "execution_count": null,
      "metadata": {
        "id": "OgEPGPG0o0cP",
        "outputId": "11b5ff78-49cb-4499-fc39-7e0b04c79e60",
        "colab": {
          "base_uri": "https://localhost:8080/",
          "height": 467
        }
      },
      "outputs": [
        {
          "output_type": "execute_result",
          "data": {
            "text/plain": [
              "Text(0, 0.5, 'Weight')"
            ]
          },
          "metadata": {},
          "execution_count": 13
        },
        {
          "output_type": "display_data",
          "data": {
            "text/plain": [
              "<Figure size 640x480 with 1 Axes>"
            ],
            "image/png": "[encoded data removed]"
          },
          "metadata": {}
        }
      ],
      "source": [
        "plt.scatter(df['horsepower'], df['weight'])\n",
        "plt.xlabel('Horsepower')\n",
        "plt.ylabel('Weight')"
      ]
    },
    {
      "cell_type": "code",
      "execution_count": null,
      "metadata": {
        "id": "aHWeeEeno0cP",
        "outputId": "65421035-da89-4ec9-8545-c609f0e0e0b5",
        "colab": {
          "base_uri": "https://localhost:8080/"
        }
      },
      "outputs": [
        {
          "output_type": "execute_result",
          "data": {
            "text/plain": [
              "array([[1.        , 0.86453774],\n",
              "       [0.86453774, 1.        ]])"
            ]
          },
          "metadata": {},
          "execution_count": 14
        }
      ],
      "source": [
        "np.corrcoef(df['horsepower'], df['weight'])"
      ]
    },
    {
      "source": [
        "# 3. 선형회귀"
      ],
      "cell_type": "markdown",
      "metadata": {
        "id": "TFY3vnSOo0cP"
      }
    },
    {
      "cell_type": "code",
      "execution_count": null,
      "metadata": {
        "id": "fjp2M4rKo0cP"
      },
      "outputs": [],
      "source": [
        "from sklearn.linear_model import LinearRegression\n",
        "from sklearn.model_selection import train_test_split\n",
        "from sklearn.metrics import mean_squared_error, mean_absolute_error, r2_score"
      ]
    },
    {
      "source": [
        "## 3.1 출시연도(\"Model Year\")와 제조국(\"Origin\")을 One-hot encoding으로 변환"
      ],
      "cell_type": "markdown",
      "metadata": {
        "id": "fjHXL9KHo0cP"
      }
    },
    {
      "cell_type": "code",
      "execution_count": null,
      "metadata": {
        "id": "RLrz5Ihro0cP",
        "outputId": "474f80d4-74f3-4d1a-99ae-f53c4a1a0f25",
        "colab": {
          "base_uri": "https://localhost:8080/"
        }
      },
      "outputs": [
        {
          "output_type": "stream",
          "name": "stdout",
          "text": [
            "<class 'pandas.core.frame.DataFrame'>\n",
            "Int64Index: 392 entries, 0 to 397\n",
            "Data columns (total 23 columns):\n",
            " #   Column         Non-Null Count  Dtype  \n",
            "---  ------         --------------  -----  \n",
            " 0   mpg            392 non-null    float64\n",
            " 1   cylinders      392 non-null    int64  \n",
            " 2   displacement   392 non-null    float64\n",
            " 3   horsepower     392 non-null    float64\n",
            " 4   weight         392 non-null    float64\n",
            " 5   acceleration   392 non-null    float64\n",
            " 6   car_name       392 non-null    object \n",
            " 7   model_year_70  392 non-null    uint8  \n",
            " 8   model_year_71  392 non-null    uint8  \n",
            " 9   model_year_72  392 non-null    uint8  \n",
            " 10  model_year_73  392 non-null    uint8  \n",
            " 11  model_year_74  392 non-null    uint8  \n",
            " 12  model_year_75  392 non-null    uint8  \n",
            " 13  model_year_76  392 non-null    uint8  \n",
            " 14  model_year_77  392 non-null    uint8  \n",
            " 15  model_year_78  392 non-null    uint8  \n",
            " 16  model_year_79  392 non-null    uint8  \n",
            " 17  model_year_80  392 non-null    uint8  \n",
            " 18  model_year_81  392 non-null    uint8  \n",
            " 19  model_year_82  392 non-null    uint8  \n",
            " 20  origin_1       392 non-null    uint8  \n",
            " 21  origin_2       392 non-null    uint8  \n",
            " 22  origin_3       392 non-null    uint8  \n",
            "dtypes: float64(5), int64(1), object(1), uint8(16)\n",
            "memory usage: 30.6+ KB\n"
          ]
        }
      ],
      "source": [
        "df_enc = pd.get_dummies(df, columns=['model_year', 'origin'])\n",
        "df_enc.info()"
      ]
    },
    {
      "source": [
        "## 3.2 Input 데이터(X)와 Target 데이터(y) 분리"
      ],
      "cell_type": "markdown",
      "metadata": {
        "id": "NBQKH7yro0cQ"
      }
    },
    {
      "cell_type": "code",
      "execution_count": null,
      "metadata": {
        "id": "8nkD8rhyo0cQ",
        "outputId": "bc504471-8513-4518-bf1c-ece129d4e587",
        "colab": {
          "base_uri": "https://localhost:8080/"
        }
      },
      "outputs": [
        {
          "output_type": "execute_result",
          "data": {
            "text/plain": [
              "((392, 21), (392,))"
            ]
          },
          "metadata": {},
          "execution_count": 17
        }
      ],
      "source": [
        "# df_enc에서 'car_name'과 'mpg'를 제외한 컬럼들만 X에 대입\n",
        "# df_enc에서 'mpg'만 y에 대입\n",
        "\n",
        "\n",
        "# X.shape, y.shape 출력 결과 아래와 같음"
      ]
    },
    {
      "source": [
        "## 3.3 Train set 과 Test set으로 분리\n",
        "- test set에 30%의 데이터 포함 \n",
        "- X_train, X_test, y_train, y_test로 구분"
      ],
      "cell_type": "markdown",
      "metadata": {
        "id": "XyJWUEhDo0cQ"
      }
    },
    {
      "cell_type": "code",
      "execution_count": null,
      "metadata": {
        "id": "m_8AZag6o0cQ",
        "outputId": "bab1131f-a105-4295-cbdd-1df086fb5969",
        "colab": {
          "base_uri": "https://localhost:8080/"
        }
      },
      "outputs": [
        {
          "output_type": "execute_result",
          "data": {
            "text/plain": [
              "((274, 21), (118, 21), (274,), (118,))"
            ]
          },
          "metadata": {},
          "execution_count": 18
        }
      ],
      "source": [
        "# test set의 비율을 0.3, random_state=0으로\n",
        "# X_train.shape, X_test.shape, y_train.shape, y_test.shape <= 결과는 아래와 같음"
      ]
    },
    {
      "source": [
        "## 3.4 자동차 무게(Weight)를 통해 연비(MPG) 예측하기 \n",
        "- 선형회귀 모델 만들기\n",
        "- MAE와 $R^2$로 평가\n",
        "- 무게와 연비를 그래프로 표현하고, 선형회귀 예측 결과를 시각화"
      ],
      "cell_type": "markdown",
      "metadata": {
        "id": "EO0Phxy8o0cQ"
      }
    },
    {
      "cell_type": "code",
      "execution_count": null,
      "metadata": {
        "id": "68cGpoR5o0cQ",
        "outputId": "bf6fad94-1a92-49db-e591-8069cb6bd5c9",
        "colab": {
          "base_uri": "https://localhost:8080/"
        }
      },
      "outputs": [
        {
          "output_type": "stream",
          "name": "stdout",
          "text": [
            "w_0:  46.254041172147396\n",
            "w_1:  [-0.00770724]\n"
          ]
        }
      ],
      "source": [
        "# 아래와 같이 학습됨\n",
        "print('w_0: ', reg.intercept_)\n",
        "print('w_1: ', reg.coef_)"
      ]
    },
    {
      "cell_type": "code",
      "execution_count": null,
      "metadata": {
        "id": "QfMGIzGeo0cQ",
        "outputId": "d6bd42b0-ffa9-429c-bb73-c3811feac85b",
        "colab": {
          "base_uri": "https://localhost:8080/"
        }
      },
      "outputs": [
        {
          "output_type": "stream",
          "name": "stdout",
          "text": [
            "MAE:  3.405889347991332  R_squared:  0.6644440345914269\n"
          ]
        }
      ],
      "source": [
        "# 평가 결과\n",
        "print('MAE: ', mean_absolute_error(y_test, y_pred),' R_squared: ', r2_score(y_test, y_pred))"
      ]
    },
    {
      "cell_type": "code",
      "execution_count": null,
      "metadata": {
        "id": "yslXyPwfo0cQ",
        "outputId": "80894f11-6d53-4164-ea10-baec2e230d8b",
        "colab": {
          "base_uri": "https://localhost:8080/",
          "height": 467
        }
      },
      "outputs": [
        {
          "output_type": "execute_result",
          "data": {
            "text/plain": [
              "Text(0, 0.5, 'MPG')"
            ]
          },
          "metadata": {},
          "execution_count": 21
        },
        {
          "output_type": "display_data",
          "data": {
            "text/plain": [
              "<Figure size 640x480 with 1 Axes>"
            ],
            "image/png": "[encoded data removed]"
          },
          "metadata": {}
        }
      ],
      "source": [
        "# 아래와 같이 시각화"
      ]
    },
    {
      "source": [
        "## 3.5 두개 이상의 변수를 사용하여 선형회귀 3.4보다 성능이 좋은 모델 만들기 \n",
        "- 성능이 좋은 기준: MAE가 더 작고 $R^2$가 더 큼\n",
        "- MAE와 $R^2$로 평가"
      ],
      "cell_type": "markdown",
      "metadata": {
        "id": "0HnMMGpKo0cQ"
      }
    },
    {
      "cell_type": "code",
      "execution_count": null,
      "metadata": {
        "id": "X_IBsitro0cQ",
        "outputId": "5a4499e4-ddfa-4070-e267-cf86e8991159",
        "colab": {
          "base_uri": "https://localhost:8080/"
        }
      },
      "outputs": [
        {
          "output_type": "stream",
          "name": "stdout",
          "text": [
            "w_0:  45.841847958065685\n",
            "w_1:  [-0.04107628 -0.00613322]\n"
          ]
        }
      ],
      "source": [
        "# 모델 학습 결과\n",
        "print('w_0: ', reg.intercept_)\n",
        "print('w_1: ', reg.coef_)"
      ]
    },
    {
      "cell_type": "code",
      "execution_count": null,
      "metadata": {
        "id": "qoeyZGj7o0cQ",
        "outputId": "e3c80526-4c22-4485-e5b0-18e221a65cf3",
        "colab": {
          "base_uri": "https://localhost:8080/"
        }
      },
      "outputs": [
        {
          "output_type": "stream",
          "name": "stdout",
          "text": [
            "MAE:  3.3330095304607315  R_squared:  0.6834117333600405\n"
          ]
        }
      ],
      "source": [
        "# 3.4보다 성능이 좋은 모델이 나오기만 하면 됨\n",
        "print('MAE: ', mean_absolute_error(y_test, y_pred),' R_squared: ', r2_score(y_test, y_pred))"
      ]
    },
    {
      "cell_type": "code",
      "source": [],
      "metadata": {
        "id": "zN0nxtOepYIz"
      },
      "execution_count": null,
      "outputs": []
    }
  ]
}