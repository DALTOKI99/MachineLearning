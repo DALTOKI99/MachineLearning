{
  "nbformat": 4,
  "nbformat_minor": 0,
  "metadata": {
    "colab": {
      "provenance": [],
      "include_colab_link": true
    },
    "kernelspec": {
      "name": "python3",
      "display_name": "Python 3"
    },
    "language_info": {
      "name": "python"
    }
  },
  "cells": [
    {
      "cell_type": "markdown",
      "metadata": {
        "id": "view-in-github",
        "colab_type": "text"
      },
      "source": [
        "<a href=\"https://colab.research.google.com/github/DALTOKI99/MachineLearning/blob/main/%EB%A8%B8%EC%8B%A0%EB%9F%AC%EB%8B%9D%EA%B0%9C%EC%9A%94_%ED%85%8C%EC%9D%B4%EB%B8%94%EB%8D%B0%EC%9D%B4%ED%84%B0_%EC%98%88%EC%A0%9C(%EC%88%98%EC%B9%98%EC%98%88%EC%B8%A1).ipynb\" target=\"_parent\"><img src=\"https://colab.research.google.com/assets/colab-badge.svg\" alt=\"Open In Colab\"/></a>"
      ]
    },
    {
      "cell_type": "markdown",
      "source": [
        "## 머신러닝 개요 (테이블 데이터 Regression)"
      ],
      "metadata": {
        "id": "9ODhIQYBUpJ7"
      }
    },
    {
      "cell_type": "code",
      "execution_count": null,
      "metadata": {
        "colab": {
          "base_uri": "https://localhost:8080/"
        },
        "id": "mwsmJXCwUku9",
        "outputId": "dce2de95-d6dd-4ddb-9137-a500b88bc6de"
      },
      "outputs": [
        {
          "output_type": "stream",
          "name": "stdout",
          "text": [
            "Mounted at /gdrive\n"
          ]
        }
      ],
      "source": [
        "from google.colab import drive\n",
        "drive.mount('/gdrive')"
      ]
    },
    {
      "cell_type": "code",
      "source": [
        "import tensorflow as tf\n",
        "model = tf.keras.models.load_model('/gdrive/MyDrive/models/bike_mlp_model')"
      ],
      "metadata": {
        "id": "DBmutqAjUxh1"
      },
      "execution_count": null,
      "outputs": []
    },
    {
      "cell_type": "code",
      "source": [
        "model.summary()"
      ],
      "metadata": {
        "colab": {
          "base_uri": "https://localhost:8080/"
        },
        "id": "I8w49RJyVBfN",
        "outputId": "9d642db5-df0e-4803-8e0d-111d2069b1fd"
      },
      "execution_count": null,
      "outputs": [
        {
          "output_type": "stream",
          "name": "stdout",
          "text": [
            "Model: \"model\"\n",
            "_________________________________________________________________\n",
            " Layer (type)                Output Shape              Param #   \n",
            "=================================================================\n",
            " input_1 (InputLayer)        [(None, 3)]               0         \n",
            "                                                                 \n",
            " dense (Dense)               (None, 16)                64        \n",
            "                                                                 \n",
            " dense_1 (Dense)             (None, 1)                 17        \n",
            "                                                                 \n",
            "=================================================================\n",
            "Total params: 81\n",
            "Trainable params: 81\n",
            "Non-trainable params: 0\n",
            "_________________________________________________________________\n"
          ]
        }
      ]
    },
    {
      "cell_type": "code",
      "source": [
        "def run_predict_bike():\n",
        "    print('========== 날씨를 통해 서울시 따릉이 자전거 대여량(1시간 기준) 예측 ==========')\n",
        "    flag = 0\n",
        "    while True:\n",
        "        inputs = []\n",
        "\n",
        "        for feature in ['온도를', '강수량을', '풍속을']:\n",
        "            input_val = input('{} 입력해주세요: '.format(feature))\n",
        "            if input_val == 'quit':\n",
        "                flag = 1 \n",
        "                break\n",
        "            inputs.append(float(input_val))\n",
        "        \n",
        "        if flag == 1:\n",
        "            break\n",
        "        pred = model.predict([inputs])\n",
        "\n",
        "        print('===> 예상 자전거 대여량: {}'.format(int(pred)))\n",
        "        print('')\n",
        "        print('<다음 예측>')\n",
        "        print('')"
      ],
      "metadata": {
        "id": "Y5QjvU-qVXo4"
      },
      "execution_count": null,
      "outputs": []
    },
    {
      "cell_type": "code",
      "source": [
        "run_predict_bike()"
      ],
      "metadata": {
        "colab": {
          "base_uri": "https://localhost:8080/"
        },
        "id": "qTEmJREAVGTL",
        "outputId": "56c4d170-4b7b-4b6d-e635-f7ac7d65c746"
      },
      "execution_count": null,
      "outputs": [
        {
          "name": "stdout",
          "output_type": "stream",
          "text": [
            "========== 날씨를 통해 서울시 따릉이 자전거 대여량(1시간 기준) 예측 ==========\n",
            "온도를 입력해주세요: 26\n",
            "강수량을 입력해주세요: 0\n",
            "풍속을 입력해주세요: 1\n",
            "1/1 [==============================] - 0s 148ms/step\n",
            "===> 예상 자전거 대여량: 1034\n",
            "\n",
            "<다음 예측>\n",
            "\n",
            "온도를 입력해주세요: -10\n",
            "강수량을 입력해주세요: 0\n",
            "풍속을 입력해주세요: 1\n",
            "1/1 [==============================] - 0s 26ms/step\n",
            "===> 예상 자전거 대여량: 273\n",
            "\n",
            "<다음 예측>\n",
            "\n",
            "온도를 입력해주세요: 26\n",
            "강수량을 입력해주세요: 2\n",
            "풍속을 입력해주세요: 1\n",
            "1/1 [==============================] - 0s 28ms/step\n",
            "===> 예상 자전거 대여량: 180\n",
            "\n",
            "<다음 예측>\n",
            "\n",
            "온도를 입력해주세요: quit\n"
          ]
        }
      ]
    }
  ]
}